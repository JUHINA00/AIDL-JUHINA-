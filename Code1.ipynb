{
  "nbformat": 4,
  "nbformat_minor": 0,
  "metadata": {
    "colab": {
      "provenance": []
    },
    "kernelspec": {
      "name": "python3",
      "display_name": "Python 3"
    },
    "language_info": {
      "name": "python"
    }
  },
  "cells": [
    {
      "cell_type": "code",
      "source": [
        "#My dataset is available in googledrive; so I am accessing my drive from colab\n",
        "from google.colab import drive\n",
        "drive.mount('/content/drive', force_remount=True)\n",
        "#Once this is executed, you will see your drive appearing on the left hand side"
      ],
      "metadata": {
        "colab": {
          "base_uri": "https://localhost:8080/"
        },
        "id": "g0evoXiec8hF",
        "outputId": "b51e5578-3efe-4755-faff-89b5195e6b74"
      },
      "execution_count": 15,
      "outputs": [
        {
          "output_type": "stream",
          "name": "stdout",
          "text": [
            "Mounted at /content/drive\n"
          ]
        }
      ]
    },
    {
      "cell_type": "code",
      "source": [
        "# Define paths to the dataset\n",
        "train_dir = '/content/drive/MyDrive/train'  # Update with your actual path\n",
        "test_dir = '/content/drive/MyDrive/test'    # Update with your actual path"
      ],
      "metadata": {
        "id": "O91GMx_mecNm"
      },
      "execution_count": 2,
      "outputs": []
    },
    {
      "cell_type": "code",
      "source": [
        "import os\n",
        "print(len(os.listdir('/content/drive/MyDrive/train/camel')))\n",
        "print(len(os.listdir('/content/drive/MyDrive/train/horse')))\n",
        "print(len(os.listdir('/content/drive/MyDrive/test/camel')))\n",
        "print(len(os.listdir('/content/drive/MyDrive/test/horse')))"
      ],
      "metadata": {
        "colab": {
          "base_uri": "https://localhost:8080/"
        },
        "id": "QOXal8evehU0",
        "outputId": "61ed4f5d-85e0-4f94-f986-78129fe1ea0e"
      },
      "execution_count": 16,
      "outputs": [
        {
          "output_type": "stream",
          "name": "stdout",
          "text": [
            "144\n",
            "144\n",
            "20\n",
            "20\n"
          ]
        }
      ]
    },
    {
      "cell_type": "code",
      "source": [
        "import tensorflow as tf\n",
        "from tensorflow.keras.preprocessing.image import ImageDataGenerator\n",
        "\n",
        "# Create ImageDataGenerator for training set\n",
        "train_datagen = ImageDataGenerator(\n",
        "    rescale=1./255,\n",
        "    validation_split=0.2  # Split 20% of the images for validation\n",
        ")\n",
        "\n",
        "# Load and prepare training data\n",
        "train_data = train_datagen.flow_from_directory(\n",
        "    train_dir,\n",
        "    target_size=(256,256),\n",
        "    batch_size=32,\n",
        "    class_mode='binary',  # 'binary' for binary classification (cats vs. dogs)\n",
        "    subset='training'  # Specify 'training' for the training set\n",
        ")\n",
        "\n",
        "# Create ImageDataGenerator for validation set\n",
        "validation_datagen = ImageDataGenerator(\n",
        "    rescale=1./255,\n",
        "    validation_split=0.2  # Note: Using the same validation split as in the training set\n",
        ")\n",
        "\n",
        "# Load and prepare validation data\n",
        "validation_data = validation_datagen.flow_from_directory(\n",
        "    train_dir,\n",
        "    target_size=(256,256),\n",
        "    batch_size=32,\n",
        "    class_mode='binary',\n",
        "    subset='validation'  # Specify 'validation' for the validation set\n",
        ")"
      ],
      "metadata": {
        "colab": {
          "base_uri": "https://localhost:8080/"
        },
        "id": "894SXDVSe5LZ",
        "outputId": "609e701f-83b3-4567-f422-5ee2381204cd"
      },
      "execution_count": 4,
      "outputs": [
        {
          "output_type": "stream",
          "name": "stdout",
          "text": [
            "Found 232 images belonging to 2 classes.\n",
            "Found 56 images belonging to 2 classes.\n"
          ]
        }
      ]
    },
    {
      "cell_type": "code",
      "source": [
        "from tensorflow import keras\n",
        "from keras import Sequential\n",
        "from keras.layers import Dense,Conv2D,MaxPooling2D,Flatten,BatchNormalization,UpSampling2D, Dropout"
      ],
      "metadata": {
        "id": "xSCKRNqme8Mh"
      },
      "execution_count": 5,
      "outputs": []
    },
    {
      "cell_type": "code",
      "source": [
        "# create CNN model\n",
        "\n",
        "model = Sequential()\n",
        "\n",
        "model.add(Conv2D(32,kernel_size=(3,3),padding='valid',activation='relu',input_shape=(256,256,3)))  # 32 filters\n",
        "#model.add(BatchNormalization())  # added to reduce overfitting\n",
        "model.add(MaxPooling2D(pool_size=(2,2),strides=2,padding='valid'))\n",
        "\n",
        "model.add(Conv2D(64,kernel_size=(3,3),padding='valid',activation='relu'))\n",
        "#model.add(BatchNormalization())  # added to reduce overfitting\n",
        "model.add(MaxPooling2D(pool_size=(2,2),strides=2,padding='valid'))\n",
        "\n",
        "model.add(Conv2D(128,kernel_size=(3,3),padding='valid',activation='relu'))\n",
        "#model.add(BatchNormalization())  # added to reduce overfitting\n",
        "model.add(MaxPooling2D(pool_size=(2,2),strides=2,padding='valid'))\n",
        "\n",
        "model.add(Flatten())\n",
        "\n",
        "model.add(Dense(128,activation='relu')) #feature reduction\n",
        "#model.add(Dropout(0.1))  # added to reduce overfitting\n",
        "model.add(Dense(64,activation='relu'))\n",
        "#model.add(Dropout(0.1))  # added to reduce overfitting\n",
        "model.add(Dense(1,activation='sigmoid'))  #output layer"
      ],
      "metadata": {
        "id": "OnxXnHz6e-8P"
      },
      "execution_count": 6,
      "outputs": []
    },
    {
      "cell_type": "code",
      "source": [
        "from keras.optimizers import Adam\n",
        "model.compile(optimizer=Adam(learning_rate=0.001),loss='binary_crossentropy',metrics=['accuracy']) #binary_crossentropy - binary classification"
      ],
      "metadata": {
        "id": "hnsq70h3fCjy"
      },
      "execution_count": 7,
      "outputs": []
    },
    {
      "cell_type": "code",
      "source": [
        "history = model.fit(train_data, epochs=30, validation_data=validation_data)"
      ],
      "metadata": {
        "colab": {
          "base_uri": "https://localhost:8080/"
        },
        "id": "NwNxXYLvfE66",
        "outputId": "609b13eb-49d9-453b-c431-ab6ec28437f5"
      },
      "execution_count": 8,
      "outputs": [
        {
          "output_type": "stream",
          "name": "stdout",
          "text": [
            "Epoch 1/30\n",
            "8/8 [==============================] - 56s 6s/step - loss: 1.2061 - accuracy: 0.5172 - val_loss: 0.6939 - val_accuracy: 0.5000\n",
            "Epoch 2/30\n",
            "8/8 [==============================] - 38s 5s/step - loss: 0.6842 - accuracy: 0.5517 - val_loss: 0.6733 - val_accuracy: 0.6429\n",
            "Epoch 3/30\n",
            "8/8 [==============================] - 41s 5s/step - loss: 0.6405 - accuracy: 0.6595 - val_loss: 0.6009 - val_accuracy: 0.6964\n",
            "Epoch 4/30\n",
            "8/8 [==============================] - 50s 6s/step - loss: 0.5571 - accuracy: 0.6940 - val_loss: 0.5482 - val_accuracy: 0.7500\n",
            "Epoch 5/30\n",
            "8/8 [==============================] - 54s 7s/step - loss: 0.5267 - accuracy: 0.7155 - val_loss: 0.5442 - val_accuracy: 0.7143\n",
            "Epoch 6/30\n",
            "8/8 [==============================] - 54s 7s/step - loss: 0.4065 - accuracy: 0.8190 - val_loss: 0.5844 - val_accuracy: 0.6964\n",
            "Epoch 7/30\n",
            "8/8 [==============================] - 40s 5s/step - loss: 0.3537 - accuracy: 0.8362 - val_loss: 0.6983 - val_accuracy: 0.7143\n",
            "Epoch 8/30\n",
            "8/8 [==============================] - 37s 5s/step - loss: 0.2851 - accuracy: 0.8793 - val_loss: 0.9317 - val_accuracy: 0.7321\n",
            "Epoch 9/30\n",
            "8/8 [==============================] - 48s 7s/step - loss: 0.1514 - accuracy: 0.9483 - val_loss: 1.2225 - val_accuracy: 0.6607\n",
            "Epoch 10/30\n",
            "8/8 [==============================] - 40s 5s/step - loss: 0.1055 - accuracy: 0.9698 - val_loss: 1.3005 - val_accuracy: 0.6607\n",
            "Epoch 11/30\n",
            "8/8 [==============================] - 44s 6s/step - loss: 0.0656 - accuracy: 0.9871 - val_loss: 1.5720 - val_accuracy: 0.6429\n",
            "Epoch 12/30\n",
            "8/8 [==============================] - 38s 5s/step - loss: 0.0247 - accuracy: 0.9957 - val_loss: 1.8735 - val_accuracy: 0.6786\n",
            "Epoch 13/30\n",
            "8/8 [==============================] - 40s 5s/step - loss: 0.0096 - accuracy: 1.0000 - val_loss: 1.8865 - val_accuracy: 0.6429\n",
            "Epoch 14/30\n",
            "8/8 [==============================] - 38s 5s/step - loss: 0.0021 - accuracy: 1.0000 - val_loss: 1.8519 - val_accuracy: 0.6429\n",
            "Epoch 15/30\n",
            "8/8 [==============================] - 41s 5s/step - loss: 0.0013 - accuracy: 1.0000 - val_loss: 2.1898 - val_accuracy: 0.6607\n",
            "Epoch 16/30\n",
            "8/8 [==============================] - 41s 5s/step - loss: 0.0014 - accuracy: 1.0000 - val_loss: 2.1117 - val_accuracy: 0.6607\n",
            "Epoch 17/30\n",
            "8/8 [==============================] - 40s 5s/step - loss: 0.0010 - accuracy: 1.0000 - val_loss: 2.0936 - val_accuracy: 0.6607\n",
            "Epoch 18/30\n",
            "8/8 [==============================] - 38s 5s/step - loss: 3.9700e-04 - accuracy: 1.0000 - val_loss: 2.1614 - val_accuracy: 0.6607\n",
            "Epoch 19/30\n",
            "8/8 [==============================] - 40s 5s/step - loss: 2.9148e-04 - accuracy: 1.0000 - val_loss: 2.2918 - val_accuracy: 0.6607\n",
            "Epoch 20/30\n",
            "8/8 [==============================] - 38s 5s/step - loss: 2.2161e-04 - accuracy: 1.0000 - val_loss: 2.3861 - val_accuracy: 0.6429\n",
            "Epoch 21/30\n",
            "8/8 [==============================] - 41s 6s/step - loss: 1.6695e-04 - accuracy: 1.0000 - val_loss: 2.4416 - val_accuracy: 0.6607\n",
            "Epoch 22/30\n",
            "8/8 [==============================] - 41s 5s/step - loss: 1.2806e-04 - accuracy: 1.0000 - val_loss: 2.4861 - val_accuracy: 0.6607\n",
            "Epoch 23/30\n",
            "8/8 [==============================] - 48s 6s/step - loss: 1.0135e-04 - accuracy: 1.0000 - val_loss: 2.5264 - val_accuracy: 0.6786\n",
            "Epoch 24/30\n",
            "8/8 [==============================] - 41s 5s/step - loss: 8.5491e-05 - accuracy: 1.0000 - val_loss: 2.5616 - val_accuracy: 0.6786\n",
            "Epoch 25/30\n",
            "8/8 [==============================] - 38s 5s/step - loss: 7.6139e-05 - accuracy: 1.0000 - val_loss: 2.5935 - val_accuracy: 0.6786\n",
            "Epoch 26/30\n",
            "8/8 [==============================] - 40s 5s/step - loss: 6.9499e-05 - accuracy: 1.0000 - val_loss: 2.6255 - val_accuracy: 0.6607\n",
            "Epoch 27/30\n",
            "8/8 [==============================] - 40s 5s/step - loss: 6.2769e-05 - accuracy: 1.0000 - val_loss: 2.6538 - val_accuracy: 0.6607\n",
            "Epoch 28/30\n",
            "8/8 [==============================] - 40s 5s/step - loss: 5.7074e-05 - accuracy: 1.0000 - val_loss: 2.6812 - val_accuracy: 0.6607\n",
            "Epoch 29/30\n",
            "8/8 [==============================] - 37s 5s/step - loss: 5.2550e-05 - accuracy: 1.0000 - val_loss: 2.7059 - val_accuracy: 0.6786\n",
            "Epoch 30/30\n",
            "8/8 [==============================] - 40s 5s/step - loss: 4.8903e-05 - accuracy: 1.0000 - val_loss: 2.7265 - val_accuracy: 0.6786\n"
          ]
        }
      ]
    },
    {
      "cell_type": "code",
      "source": [
        "import matplotlib.pyplot as plt\n",
        "\n",
        "plt.plot(history.history['accuracy'],color='red',label='train')\n",
        "plt.plot(history.history['val_accuracy'],color='blue',label='validation')\n",
        "plt.legend()\n",
        "plt.show()"
      ],
      "metadata": {
        "colab": {
          "base_uri": "https://localhost:8080/",
          "height": 430
        },
        "id": "KscoyukCkKGO",
        "outputId": "cec28694-2166-4b07-d455-6819656cc2a8"
      },
      "execution_count": 9,
      "outputs": [
        {
          "output_type": "display_data",
          "data": {
            "text/plain": [
              "<Figure size 640x480 with 1 Axes>"
            ],
            "image/png": "[encoded data removed]"
          },
          "metadata": {}
        }
      ]
    },
    {
      "cell_type": "code",
      "source": [
        "plt.plot(history.history['loss'],color='red',label='train')\n",
        "plt.plot(history.history['val_loss'],color='blue',label='validation')\n",
        "plt.legend()\n",
        "plt.show()"
      ],
      "metadata": {
        "colab": {
          "base_uri": "https://localhost:8080/",
          "height": 430
        },
        "id": "PXgMyx9skLBT",
        "outputId": "e8ce062c-0935-4a0d-eab8-f8921212c342"
      },
      "execution_count": 10,
      "outputs": [
        {
          "output_type": "display_data",
          "data": {
            "text/plain": [
              "<Figure size 640x480 with 1 Axes>"
            ],
            "image/png": "[encoded data removed]"
          },
          "metadata": {}
        }
      ]
    },
    {
      "cell_type": "code",
      "source": [
        "test_datagen = ImageDataGenerator(rescale=1./255)\n",
        "test_data = test_datagen.flow_from_directory(\n",
        "    test_dir,\n",
        "    target_size=(256,256),\n",
        "    batch_size=32,\n",
        "    class_mode='binary'\n",
        ")"
      ],
      "metadata": {
        "colab": {
          "base_uri": "https://localhost:8080/"
        },
        "id": "Hq6XCKwrkOE2",
        "outputId": "4752a594-a548-4ae0-e793-e28d80ff0ed6"
      },
      "execution_count": 11,
      "outputs": [
        {
          "output_type": "stream",
          "name": "stdout",
          "text": [
            "Found 40 images belonging to 2 classes.\n"
          ]
        }
      ]
    },
    {
      "cell_type": "code",
      "source": [
        "#predict the test data\n",
        "predictions = model.predict(test_data)\n",
        "print(predictions)"
      ],
      "metadata": {
        "colab": {
          "base_uri": "https://localhost:8080/"
        },
        "id": "mBjWvAxikW5w",
        "outputId": "005cfcbe-2de6-4aeb-b71f-bfd7d7ea86c3"
      },
      "execution_count": 12,
      "outputs": [
        {
          "output_type": "stream",
          "name": "stdout",
          "text": [
            "2/2 [==============================] - 3s 890ms/step\n",
            "[[4.5928678e-06]\n",
            " [4.3906363e-13]\n",
            " [3.4981429e-05]\n",
            " [1.0000000e+00]\n",
            " [1.0000000e+00]\n",
            " [9.4109702e-01]\n",
            " [1.0000000e+00]\n",
            " [9.6993732e-01]\n",
            " [6.6385984e-02]\n",
            " [1.8645185e-05]\n",
            " [1.2604314e-01]\n",
            " [2.3505007e-05]\n",
            " [9.9999976e-01]\n",
            " [4.3631979e-04]\n",
            " [4.8921847e-05]\n",
            " [1.4280740e-12]\n",
            " [5.6814924e-02]\n",
            " [9.9999934e-01]\n",
            " [2.6340568e-03]\n",
            " [9.9655491e-01]\n",
            " [1.6992349e-06]\n",
            " [2.6664329e-06]\n",
            " [9.7390480e-02]\n",
            " [1.0000000e+00]\n",
            " [1.0000000e+00]\n",
            " [9.7470134e-02]\n",
            " [2.7474316e-05]\n",
            " [7.1907992e-04]\n",
            " [8.1159742e-06]\n",
            " [1.3504826e-05]\n",
            " [1.2347303e-01]\n",
            " [1.6060895e-01]\n",
            " [1.0000000e+00]\n",
            " [1.0000000e+00]\n",
            " [1.1991249e-13]\n",
            " [7.0296896e-10]\n",
            " [1.9510338e-01]\n",
            " [1.0000000e+00]\n",
            " [9.4275224e-01]\n",
            " [8.2457113e-08]]\n"
          ]
        }
      ]
    },
    {
      "cell_type": "code",
      "source": [
        "len(predictions)"
      ],
      "metadata": {
        "colab": {
          "base_uri": "https://localhost:8080/"
        },
        "id": "2JJORe40kZno",
        "outputId": "2cd691da-45f4-4bb8-db1f-5398e7c319c5"
      },
      "execution_count": 13,
      "outputs": [
        {
          "output_type": "execute_result",
          "data": {
            "text/plain": [
              "40"
            ]
          },
          "metadata": {},
          "execution_count": 13
        }
      ]
    },
    {
      "cell_type": "code",
      "source": [
        "from sklearn.metrics import confusion_matrix, classification_report\n",
        "\n",
        "# Assuming you have ground truth labels (true_labels) and predicted labels (predictions)\n",
        "true_labels = test_data.classes\n",
        "predicted_labels = (predictions > 0.5).astype(int)  # Adjust the threshold as needed\n",
        "\n",
        "# Calculate confusion matrix\n",
        "cm = confusion_matrix(true_labels, predicted_labels)\n",
        "\n",
        "# Print confusion matrix\n",
        "print(\"Confusion Matrix:\")\n",
        "print(cm)\n",
        "\n",
        "# Print classification report\n",
        "print(\"Classification Report:\")\n",
        "print(classification_report(true_labels, predicted_labels))"
      ],
      "metadata": {
        "colab": {
          "base_uri": "https://localhost:8080/"
        },
        "id": "iUyCqN9fkeDC",
        "outputId": "a8fce1e3-de6d-4847-d1f6-dff2ef5b7242"
      },
      "execution_count": 14,
      "outputs": [
        {
          "output_type": "stream",
          "name": "stdout",
          "text": [
            "Confusion Matrix:\n",
            "[[12  8]\n",
            " [14  6]]\n",
            "Classification Report:\n",
            "              precision    recall  f1-score   support\n",
            "\n",
            "           0       0.46      0.60      0.52        20\n",
            "           1       0.43      0.30      0.35        20\n",
            "\n",
            "    accuracy                           0.45        40\n",
            "   macro avg       0.45      0.45      0.44        40\n",
            "weighted avg       0.45      0.45      0.44        40\n",
            "\n"
          ]
        }
      ]
    }
  ]
}